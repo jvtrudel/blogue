{
 "cells": [
  {
   "cell_type": "code",
   "execution_count": 1,
   "metadata": {
    "collapsed": false
   },
   "outputs": [
    {
     "name": "stdout",
     "output_type": "stream",
     "text": [
      "Writing readme.md\n"
     ]
    }
   ],
   "source": [
    "%%file readme.md\n",
    "\n",
    "# Pint cookbook\n",
    "\n",
    "## À quoi sert pint?\n",
    "\n",
    "  - Transformation d'unités\n",
    "  \n",
    "## Les bases\n",
    "\n",
    "  - créer une instance de pint\n",
    "  - importer un \"dictionaire d'unités\"\n",
    "  \n",
    "  - entrer une valeur\n",
    "  \n",
    "  - transformer la valeur\n",
    "    \n",
    "\n",
    "## Cas d'usage\n",
    "\n",
    "### Transformer le temps en unités atomique\n",
    "\n"
   ]
  },
  {
   "cell_type": "markdown",
   "metadata": {
    "collapsed": true
   },
   "source": [
    "# Entrer une quantité dans le registry\n",
    "\n",
    "    from pint import UnitRegistry \n",
    "    ureg=UnitRegistry()\n",
    "    ureg.Quantity(\"100nm\")+ureg.Quantity(\"1nm\")\n",
    "    \n",
    "    >>> 101 nanometer"
   ]
  },
  {
   "cell_type": "code",
   "execution_count": 1,
   "metadata": {
    "collapsed": false
   },
   "outputs": [
    {
     "data": {
      "text/html": [
       "101 nanometer"
      ],
      "text/latex": [
       "$101 nanometer$"
      ],
      "text/plain": [
       "<Quantity(101, 'nanometer')>"
      ]
     },
     "execution_count": 1,
     "metadata": {},
     "output_type": "execute_result"
    }
   ],
   "source": [
    "from pint import UnitRegistry \n",
    "ureg=UnitRegistry()\n",
    "ureg.Quantity(\"100nm\")+ureg.Quantity(\"1nm\")"
   ]
  },
  {
   "cell_type": "markdown",
   "metadata": {},
   "source": [
    "# Dimensionalitée\n",
    "\n",
    "    ureg.Quantity(\"1m\").dimensionality==ureg.Quantity(\"1m\").dimensionality"
   ]
  },
  {
   "cell_type": "code",
   "execution_count": null,
   "metadata": {
    "collapsed": false
   },
   "outputs": [],
   "source": [
    "# load my own "
   ]
  },
  {
   "cell_type": "markdown",
   "metadata": {},
   "source": [
    "# conversion dans un contexte particulier"
   ]
  },
  {
   "cell_type": "code",
   "execution_count": 3,
   "metadata": {
    "collapsed": false
   },
   "outputs": [],
   "source": [
    "from pint import UnitRegistry \n",
    "ureg=UnitRegistry()\n",
    "I=ureg.Quantity(\".4e14W/cm**2\").to(\"au_eField\",\"sp2\")\n",
    "w=37*ureg.nm"
   ]
  },
  {
   "cell_type": "code",
   "execution_count": 4,
   "metadata": {
    "collapsed": false
   },
   "outputs": [
    {
     "data": {
      "text/html": [
       "1.2314419602054767 au_afrequency"
      ],
      "text/latex": [
       "$1.2314419602054767 au_afrequency$"
      ],
      "text/plain": [
       "<Quantity(1.2314419602054767, 'au_afrequency')>"
      ]
     },
     "execution_count": 4,
     "metadata": {},
     "output_type": "execute_result"
    }
   ],
   "source": [
    "w.to(\"au_afrequency\",\"sp2\")"
   ]
  },
  {
   "cell_type": "code",
   "execution_count": null,
   "metadata": {
    "collapsed": true
   },
   "outputs": [],
   "source": []
  },
  {
   "cell_type": "code",
   "execution_count": null,
   "metadata": {
    "collapsed": true
   },
   "outputs": [],
   "source": []
  }
 ],
 "metadata": {
  "kernelspec": {
   "display_name": "Python 3",
   "language": "python",
   "name": "python3"
  }
 },
 "nbformat": 4,
 "nbformat_minor": 0
}
